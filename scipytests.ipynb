{
  "nbformat": 4,
  "nbformat_minor": 0,
  "metadata": {
    "colab": {
      "provenance": [],
      "authorship_tag": "ABX9TyPfpb6yqLK/ICNtB+Cf8pr1",
      "include_colab_link": true
    },
    "kernelspec": {
      "name": "python3",
      "display_name": "Python 3"
    },
    "language_info": {
      "name": "python"
    }
  },
  "cells": [
    {
      "cell_type": "markdown",
      "metadata": {
        "id": "view-in-github",
        "colab_type": "text"
      },
      "source": [
        "<a href=\"https://colab.research.google.com/github/ArtemBaron/baron_vergeles/blob/main/scipytests.ipynb\" target=\"_parent\"><img src=\"https://colab.research.google.com/assets/colab-badge.svg\" alt=\"Open In Colab\"/></a>"
      ]
    },
    {
      "cell_type": "code",
      "execution_count": 2,
      "metadata": {
        "id": "djoIoPCnelCP"
      },
      "outputs": [],
      "source": [
        "import numpy as np\n",
        "import pandas as pd\n",
        "import scipy.stats as st\n",
        "import math"
      ]
    },
    {
      "cell_type": "markdown",
      "source": [
        "1. Student t test\n",
        "Average between two data samples are significantly different.\n",
        "\n",
        "\n",
        "Assumption:\n",
        "\n",
        "\n",
        "    *    Each data sample's observation are independent and distributed.\n",
        "    *    Observations are normally distributed.\n",
        "    *    Observations have same variance between each other.\n",
        "\n",
        "Hypothesis:\n",
        "\n",
        "\n",
        "    *    H0: the mean between two samples are equal.\n",
        "    *    H1: the mean between two samples are not equal.\n",
        "\n"
      ],
      "metadata": {
        "id": "gYyZgKWYitZf"
      }
    },
    {
      "cell_type": "code",
      "source": [
        "data1 = [0.873, 2.817, 0.121, -0.945, -0.055, -1.436, 0.360, -1.478, -1.637, -1.869]\n",
        "data2 = [1.142, -0.432, -0.938, -0.729, -0.846, -0.157, 0.500, 1.183, -1.075, -0.169]\n",
        "stat, p = st.ttest_ind(data1, data2)\n",
        "print(f'stat = {stat:.2f}, p = {p:.2f}')\n",
        "if p > 0.05:\n",
        "    print('Probably the same distribution')\n",
        "else:\n",
        "    print('Probably different distributions')"
      ],
      "metadata": {
        "colab": {
          "base_uri": "https://localhost:8080/"
        },
        "id": "T0rFVnoyiZmx",
        "outputId": "06000dbf-4adf-4547-8c5d-37288328ba08"
      },
      "execution_count": 3,
      "outputs": [
        {
          "output_type": "stream",
          "name": "stdout",
          "text": [
            "stat = -0.33, p = 0.75\n",
            "Probably the same distribution\n"
          ]
        }
      ]
    },
    {
      "cell_type": "markdown",
      "source": [
        "2. Paired Student t test\n",
        "Average between two data samples are significantly different.\n",
        "\n",
        "\n",
        "Assumption:\n",
        "\n",
        "\n",
        "    *    Each data sample's observation are independent and distributed.\n",
        "    *    Observations are normally distributed.\n",
        "    *    Observations have same variance between each other.\n",
        "    *    Observations are paired.\n",
        "\n",
        "\n",
        "Hypothesis:\n",
        "\n",
        "\n",
        "    *    H0: the mean between two samples are equal.\n",
        "    *    H1: the mean between two samples are not equal."
      ],
      "metadata": {
        "id": "TPfnfjMAkmHM"
      }
    },
    {
      "cell_type": "code",
      "source": [
        "data1 = [0.873, 2.817, 0.121, -0.945, -0.055, -1.436, 0.360, -1.478, -1.637, -1.869]\n",
        "data2 = [1.142, -0.432, -0.938, -0.729, -0.846, -0.157, 0.500, 1.183, -1.075, -0.169]\n",
        "stat, p = st.ttest_rel(data1, data2)\n",
        "print(f'stat = {stat:.2f}, p = {p:.2f}')\n",
        "if p > 0.05:\n",
        "    print('Probably the same distribution')\n",
        "else:\n",
        "    print('Probably different distributions')"
      ],
      "metadata": {
        "colab": {
          "base_uri": "https://localhost:8080/"
        },
        "id": "wnjFiNO_iZu7",
        "outputId": "1552e624-e21d-4853-8d77-f334654af717"
      },
      "execution_count": 4,
      "outputs": [
        {
          "output_type": "stream",
          "name": "stdout",
          "text": [
            "stat = -0.33, p = 0.75\n",
            "Probably the same distribution\n"
          ]
        }
      ]
    },
    {
      "cell_type": "markdown",
      "source": [
        "3. One Sample Student t test\n",
        "Average between sample and population are significantly different.\n",
        "\n",
        "\n",
        "Assumption:\n",
        "\n",
        "\n",
        "    *    Each data sample's observation are independent and distributed.\n",
        "    *    Observations are normally distributed.\n",
        "    *    Observations have same variance between each other.\n",
        "\n",
        "Hypothesis:\n",
        "\n",
        "\n",
        "    *    H0: the mean between two samples are equal.\n",
        "    *    H1: the mean between two samples are not equal.\n"
      ],
      "metadata": {
        "id": "XXbMeC78lgWu"
      }
    },
    {
      "cell_type": "code",
      "source": [
        "data1 = [0.873, 2.817, 0.121, -0.945, -0.055, -1.436, 0.360, -1.478, -1.637, -1.869]\n",
        "stat, p = st.ttest_1samp(data1, popmean=0)\n",
        "print(f'stat = {stat:.2f}, p = {p:.2f}')\n",
        "if p > 0.05:\n",
        "    print('Probably the same mean')\n",
        "else:\n",
        "    print('Probably different mean')"
      ],
      "metadata": {
        "colab": {
          "base_uri": "https://localhost:8080/"
        },
        "id": "jZ-vCaCoiZ0E",
        "outputId": "2425d185-1640-4b82-8998-3fb276fd1e86"
      },
      "execution_count": 5,
      "outputs": [
        {
          "output_type": "stream",
          "name": "stdout",
          "text": [
            "stat = -0.71, p = 0.50\n",
            "Probably the same mean\n"
          ]
        }
      ]
    },
    {
      "cell_type": "markdown",
      "source": [
        "![1_-s9ipTFAGk8CisYULw9hiQ.webp](data:image/webp;base64,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)"
      ],
      "metadata": {
        "id": "AMzsPNHPp0jv"
      }
    },
    {
      "cell_type": "markdown",
      "source": [
        "4. F-test\n",
        "Dependency between two samples.\n",
        "Work with categorical variables\n",
        "Two category variables have non-random connections or we can say it’s used to check whether two category variables have a significant relationship\n",
        "\n",
        "Hypothesis:\n",
        "\n",
        "\n",
        "    *    H0: no associations between the rows and columns, or the classifications are independent\n",
        "    *    H1: there are associations between the rows and columns, or the classifications are dependent."
      ],
      "metadata": {
        "id": "Vc3qiRaqr_fl"
      }
    },
    {
      "cell_type": "code",
      "source": [
        "# importing packages\n",
        "import scipy.stats as stats\n",
        "\n",
        "# creating data\n",
        "data = [[2, 8], [7, 3]]\n",
        "\n",
        "# performing fishers exact test on the data\n",
        "odd_ratio, p_value = stats.fisher_exact(data)\n",
        "print('odd ratio is : ' + str(odd_ratio))\n",
        "print('p_value is : ' + str(p_value))"
      ],
      "metadata": {
        "colab": {
          "base_uri": "https://localhost:8080/"
        },
        "id": "2YuCKDLFiZ3y",
        "outputId": "58e86709-23cd-4cff-88ea-56542898b72c"
      },
      "execution_count": 6,
      "outputs": [
        {
          "output_type": "stream",
          "name": "stdout",
          "text": [
            "odd ratio is : 0.10714285714285714\n",
            "p_value is : 0.06977851869492736\n"
          ]
        }
      ]
    },
    {
      "cell_type": "markdown",
      "source": [
        "5. Chi-2\n",
        "Independence between categorical variables.\n",
        "Work with categorical variables\n",
        "Two category variables have non-random connections or we can say it’s used to check whether two category variables have a significant relationship\n",
        "\n",
        "Hypothesis:\n",
        "\n",
        "\n",
        "    *    H0: no associations between the rows and columns, or the classifications are independent\n",
        "    *    H1: there are associations between the rows and columns, or the classifications are dependent."
      ],
      "metadata": {
        "id": "AV1YcZKc76er"
      }
    },
    {
      "cell_type": "code",
      "source": [
        "# defining the table\n",
        "data = [[207, 282, 241], [234, 242, 232]]\n",
        "stat, p, dof, expected = st.chi2_contingency(data)\n",
        "\n",
        "# interpret p-value\n",
        "alpha = 0.05\n",
        "print(\"p value is \" + str(p))\n",
        "if p <= alpha:\n",
        "    print('Dependent (reject H0)')\n",
        "else:\n",
        "    print('Independent (H0 holds true)')"
      ],
      "metadata": {
        "colab": {
          "base_uri": "https://localhost:8080/"
        },
        "id": "mmTzTtUd76NY",
        "outputId": "921e3c8b-fc28-4f29-bdf1-a454f678b03a"
      },
      "execution_count": 7,
      "outputs": [
        {
          "output_type": "stream",
          "name": "stdout",
          "text": [
            "p value is 0.1031971404730939\n",
            "Independent (H0 holds true)\n"
          ]
        }
      ]
    },
    {
      "cell_type": "markdown",
      "source": [
        "6. Chi2 - on difference in means between observed and expected values"
      ],
      "metadata": {
        "id": "LZTaqBq5gpnY"
      }
    },
    {
      "cell_type": "code",
      "source": [
        "national = pd.DataFrame([\"white\"]*100000 + [\"hispanic\"]*60000 +\\\n",
        "                        [\"black\"]*50000 + [\"asian\"]*15000 + [\"other\"]*35000)\n",
        "\n",
        "\n",
        "minnesota = pd.DataFrame([\"white\"]*600 + [\"hispanic\"]*300 + \\\n",
        "                         [\"black\"]*250 +[\"asian\"]*75 + [\"other\"]*150)\n",
        "\n",
        "national_table = pd.crosstab(index=national[0], columns=\"count\")\n",
        "minnesota_table = pd.crosstab(index=minnesota[0], columns=\"count\")\n",
        "\n",
        "print( \"National\")\n",
        "print(national_table)\n",
        "print(\" \")\n",
        "print( \"Minnesota\")\n",
        "print(minnesota_table)"
      ],
      "metadata": {
        "colab": {
          "base_uri": "https://localhost:8080/"
        },
        "id": "rt2LyijDiZ7f",
        "outputId": "e45894c1-d71b-4838-8665-05970d624905"
      },
      "execution_count": 8,
      "outputs": [
        {
          "output_type": "stream",
          "name": "stdout",
          "text": [
            "National\n",
            "col_0      count\n",
            "0               \n",
            "asian      15000\n",
            "black      50000\n",
            "hispanic   60000\n",
            "other      35000\n",
            "white     100000\n",
            " \n",
            "Minnesota\n",
            "col_0     count\n",
            "0              \n",
            "asian        75\n",
            "black       250\n",
            "hispanic    300\n",
            "other       150\n",
            "white       600\n"
          ]
        }
      ]
    },
    {
      "cell_type": "code",
      "source": [
        "observed = minnesota_table\n",
        "\n",
        "national_ratios = national_table/len(national)  # Get population ratios\n",
        "\n",
        "expected = national_ratios * len(minnesota)   # Get expected counts\n",
        "\n",
        "chi_squared_stat = (((observed-expected)**2)/expected).sum()\n",
        "\n",
        "print(chi_squared_stat)\n",
        "\n",
        "crit = stats.chi2.ppf(q = 0.95, # Find the critical value for 95% confidence*\n",
        "                      df = 4)   # Df = number of variable categories - 1\n",
        "\n",
        "print(\"Critical value\")\n",
        "print(crit)\n",
        "\n",
        "p_value = 1 - stats.chi2.cdf(x=chi_squared_stat,  # Find the p-value\n",
        "                             df=4)\n",
        "print(\"P value\")\n",
        "print(p_value)\n"
      ],
      "metadata": {
        "colab": {
          "base_uri": "https://localhost:8080/"
        },
        "id": "loeINbdFiZ-9",
        "outputId": "737e8129-64da-4abe-a525-dd20235235ea"
      },
      "execution_count": 9,
      "outputs": [
        {
          "output_type": "stream",
          "name": "stdout",
          "text": [
            "col_0\n",
            "count    18.194805\n",
            "dtype: float64\n",
            "Critical value\n",
            "9.487729036781154\n",
            "P value\n",
            "[0.00113047]\n"
          ]
        }
      ]
    },
    {
      "cell_type": "code",
      "source": [
        "#sample mean differs from the an expected (population) mean\n",
        "stat, p = st.chisquare(f_obs= observed, f_exp= expected)\n",
        "print(f'stat = {stat}, p = {p}')\n",
        "if p > 0.05:\n",
        "    print('Probably the same mean')\n",
        "else:\n",
        "    print('Probably different mean')  # Array of expected counts"
      ],
      "metadata": {
        "colab": {
          "base_uri": "https://localhost:8080/"
        },
        "id": "V5D60pThiaCZ",
        "outputId": "83918170-cd1b-41ff-efdf-25114d67c190"
      },
      "execution_count": 18,
      "outputs": [
        {
          "output_type": "stream",
          "name": "stdout",
          "text": [
            "stat = [18.19480519], p = [0.00113047]\n",
            "Probably different mean\n"
          ]
        }
      ]
    },
    {
      "cell_type": "markdown",
      "source": [
        "7. Chi2 independence"
      ],
      "metadata": {
        "id": "NEGVPNpygw-_"
      }
    },
    {
      "cell_type": "code",
      "source": [
        "np.random.seed(10)\n",
        "\n",
        "# Sample data randomly at fixed probabilities\n",
        "voter_race = np.random.choice(a= [\"asian\",\"black\",\"hispanic\",\"other\",\"white\"],\n",
        "                              p = [0.05, 0.15 ,0.25, 0.05, 0.5],\n",
        "                              size=1000)\n",
        "\n",
        "# Sample data randomly at fixed probabilities\n",
        "voter_party = np.random.choice(a= [\"democrat\",\"independent\",\"republican\"],\n",
        "                              p = [0.4, 0.2, 0.4],\n",
        "                              size=1000)\n",
        "\n",
        "voters = pd.DataFrame({\"race\":voter_race,\n",
        "                       \"party\":voter_party})\n",
        "\n",
        "voter_tab = pd.crosstab(voters.race, voters.party, margins = True)\n",
        "\n",
        "voter_tab.columns = [\"democrat\",\"independent\",\"republican\",\"row_totals\"]\n",
        "\n",
        "voter_tab.index = [\"asian\",\"black\",\"hispanic\",\"other\",\"white\",\"col_totals\"]\n",
        "\n",
        "observed = voter_tab.iloc[0:5,0:3]   # Get table without totals for later use\n",
        "voter_tab"
      ],
      "metadata": {
        "colab": {
          "base_uri": "https://localhost:8080/",
          "height": 238
        },
        "id": "-iLYVTAViaGG",
        "outputId": "a631dc82-c29b-4a4d-ade4-7a464b413a8f"
      },
      "execution_count": 19,
      "outputs": [
        {
          "output_type": "execute_result",
          "data": {
            "text/plain": [
              "            democrat  independent  republican  row_totals\n",
              "asian             21            7          32          60\n",
              "black             65           25          64         154\n",
              "hispanic         107           50          94         251\n",
              "other             15            8          15          38\n",
              "white            189           96         212         497\n",
              "col_totals       397          186         417        1000"
            ],
            "text/html": [
              "\n",
              "\n",
              "  <div id=\"df-ea8d2a41-571d-4c1b-afae-ad5fc0ad50c0\">\n",
              "    <div class=\"colab-df-container\">\n",
              "      <div>\n",
              "<style scoped>\n",
              "    .dataframe tbody tr th:only-of-type {\n",
              "        vertical-align: middle;\n",
              "    }\n",
              "\n",
              "    .dataframe tbody tr th {\n",
              "        vertical-align: top;\n",
              "    }\n",
              "\n",
              "    .dataframe thead th {\n",
              "        text-align: right;\n",
              "    }\n",
              "</style>\n",
              "<table border=\"1\" class=\"dataframe\">\n",
              "  <thead>\n",
              "    <tr style=\"text-align: right;\">\n",
              "      <th></th>\n",
              "      <th>democrat</th>\n",
              "      <th>independent</th>\n",
              "      <th>republican</th>\n",
              "      <th>row_totals</th>\n",
              "    </tr>\n",
              "  </thead>\n",
              "  <tbody>\n",
              "    <tr>\n",
              "      <th>asian</th>\n",
              "      <td>21</td>\n",
              "      <td>7</td>\n",
              "      <td>32</td>\n",
              "      <td>60</td>\n",
              "    </tr>\n",
              "    <tr>\n",
              "      <th>black</th>\n",
              "      <td>65</td>\n",
              "      <td>25</td>\n",
              "      <td>64</td>\n",
              "      <td>154</td>\n",
              "    </tr>\n",
              "    <tr>\n",
              "      <th>hispanic</th>\n",
              "      <td>107</td>\n",
              "      <td>50</td>\n",
              "      <td>94</td>\n",
              "      <td>251</td>\n",
              "    </tr>\n",
              "    <tr>\n",
              "      <th>other</th>\n",
              "      <td>15</td>\n",
              "      <td>8</td>\n",
              "      <td>15</td>\n",
              "      <td>38</td>\n",
              "    </tr>\n",
              "    <tr>\n",
              "      <th>white</th>\n",
              "      <td>189</td>\n",
              "      <td>96</td>\n",
              "      <td>212</td>\n",
              "      <td>497</td>\n",
              "    </tr>\n",
              "    <tr>\n",
              "      <th>col_totals</th>\n",
              "      <td>397</td>\n",
              "      <td>186</td>\n",
              "      <td>417</td>\n",
              "      <td>1000</td>\n",
              "    </tr>\n",
              "  </tbody>\n",
              "</table>\n",
              "</div>\n",
              "      <button class=\"colab-df-convert\" onclick=\"convertToInteractive('df-ea8d2a41-571d-4c1b-afae-ad5fc0ad50c0')\"\n",
              "              title=\"Convert this dataframe to an interactive table.\"\n",
              "              style=\"display:none;\">\n",
              "\n",
              "  <svg xmlns=\"http://www.w3.org/2000/svg\" height=\"24px\"viewBox=\"0 0 24 24\"\n",
              "       width=\"24px\">\n",
              "    <path d=\"M0 0h24v24H0V0z\" fill=\"none\"/>\n",
              "    <path d=\"M18.56 5.44l.94 2.06.94-2.06 2.06-.94-2.06-.94-.94-2.06-.94 2.06-2.06.94zm-11 1L8.5 8.5l.94-2.06 2.06-.94-2.06-.94L8.5 2.5l-.94 2.06-2.06.94zm10 10l.94 2.06.94-2.06 2.06-.94-2.06-.94-.94-2.06-.94 2.06-2.06.94z\"/><path d=\"M17.41 7.96l-1.37-1.37c-.4-.4-.92-.59-1.43-.59-.52 0-1.04.2-1.43.59L10.3 9.45l-7.72 7.72c-.78.78-.78 2.05 0 2.83L4 21.41c.39.39.9.59 1.41.59.51 0 1.02-.2 1.41-.59l7.78-7.78 2.81-2.81c.8-.78.8-2.07 0-2.86zM5.41 20L4 18.59l7.72-7.72 1.47 1.35L5.41 20z\"/>\n",
              "  </svg>\n",
              "      </button>\n",
              "\n",
              "\n",
              "\n",
              "    <div id=\"df-e077b71b-0af3-4cf4-9105-ac4a43f0ebbd\">\n",
              "      <button class=\"colab-df-quickchart\" onclick=\"quickchart('df-e077b71b-0af3-4cf4-9105-ac4a43f0ebbd')\"\n",
              "              title=\"Suggest charts.\"\n",
              "              style=\"display:none;\">\n",
              "\n",
              "<svg xmlns=\"http://www.w3.org/2000/svg\" height=\"24px\"viewBox=\"0 0 24 24\"\n",
              "     width=\"24px\">\n",
              "    <g>\n",
              "        <path d=\"M19 3H5c-1.1 0-2 .9-2 2v14c0 1.1.9 2 2 2h14c1.1 0 2-.9 2-2V5c0-1.1-.9-2-2-2zM9 17H7v-7h2v7zm4 0h-2V7h2v10zm4 0h-2v-4h2v4z\"/>\n",
              "    </g>\n",
              "</svg>\n",
              "      </button>\n",
              "    </div>\n",
              "\n",
              "<style>\n",
              "  .colab-df-quickchart {\n",
              "    background-color: #E8F0FE;\n",
              "    border: none;\n",
              "    border-radius: 50%;\n",
              "    cursor: pointer;\n",
              "    display: none;\n",
              "    fill: #1967D2;\n",
              "    height: 32px;\n",
              "    padding: 0 0 0 0;\n",
              "    width: 32px;\n",
              "  }\n",
              "\n",
              "  .colab-df-quickchart:hover {\n",
              "    background-color: #E2EBFA;\n",
              "    box-shadow: 0px 1px 2px rgba(60, 64, 67, 0.3), 0px 1px 3px 1px rgba(60, 64, 67, 0.15);\n",
              "    fill: #174EA6;\n",
              "  }\n",
              "\n",
              "  [theme=dark] .colab-df-quickchart {\n",
              "    background-color: #3B4455;\n",
              "    fill: #D2E3FC;\n",
              "  }\n",
              "\n",
              "  [theme=dark] .colab-df-quickchart:hover {\n",
              "    background-color: #434B5C;\n",
              "    box-shadow: 0px 1px 3px 1px rgba(0, 0, 0, 0.15);\n",
              "    filter: drop-shadow(0px 1px 2px rgba(0, 0, 0, 0.3));\n",
              "    fill: #FFFFFF;\n",
              "  }\n",
              "</style>\n",
              "\n",
              "    <script>\n",
              "      async function quickchart(key) {\n",
              "        const containerElement = document.querySelector('#' + key);\n",
              "        const charts = await google.colab.kernel.invokeFunction(\n",
              "            'suggestCharts', [key], {});\n",
              "      }\n",
              "    </script>\n",
              "\n",
              "      <script>\n",
              "\n",
              "function displayQuickchartButton(domScope) {\n",
              "  let quickchartButtonEl =\n",
              "    domScope.querySelector('#df-e077b71b-0af3-4cf4-9105-ac4a43f0ebbd button.colab-df-quickchart');\n",
              "  quickchartButtonEl.style.display =\n",
              "    google.colab.kernel.accessAllowed ? 'block' : 'none';\n",
              "}\n",
              "\n",
              "        displayQuickchartButton(document);\n",
              "      </script>\n",
              "      <style>\n",
              "    .colab-df-container {\n",
              "      display:flex;\n",
              "      flex-wrap:wrap;\n",
              "      gap: 12px;\n",
              "    }\n",
              "\n",
              "    .colab-df-convert {\n",
              "      background-color: #E8F0FE;\n",
              "      border: none;\n",
              "      border-radius: 50%;\n",
              "      cursor: pointer;\n",
              "      display: none;\n",
              "      fill: #1967D2;\n",
              "      height: 32px;\n",
              "      padding: 0 0 0 0;\n",
              "      width: 32px;\n",
              "    }\n",
              "\n",
              "    .colab-df-convert:hover {\n",
              "      background-color: #E2EBFA;\n",
              "      box-shadow: 0px 1px 2px rgba(60, 64, 67, 0.3), 0px 1px 3px 1px rgba(60, 64, 67, 0.15);\n",
              "      fill: #174EA6;\n",
              "    }\n",
              "\n",
              "    [theme=dark] .colab-df-convert {\n",
              "      background-color: #3B4455;\n",
              "      fill: #D2E3FC;\n",
              "    }\n",
              "\n",
              "    [theme=dark] .colab-df-convert:hover {\n",
              "      background-color: #434B5C;\n",
              "      box-shadow: 0px 1px 3px 1px rgba(0, 0, 0, 0.15);\n",
              "      filter: drop-shadow(0px 1px 2px rgba(0, 0, 0, 0.3));\n",
              "      fill: #FFFFFF;\n",
              "    }\n",
              "  </style>\n",
              "\n",
              "      <script>\n",
              "        const buttonEl =\n",
              "          document.querySelector('#df-ea8d2a41-571d-4c1b-afae-ad5fc0ad50c0 button.colab-df-convert');\n",
              "        buttonEl.style.display =\n",
              "          google.colab.kernel.accessAllowed ? 'block' : 'none';\n",
              "\n",
              "        async function convertToInteractive(key) {\n",
              "          const element = document.querySelector('#df-ea8d2a41-571d-4c1b-afae-ad5fc0ad50c0');\n",
              "          const dataTable =\n",
              "            await google.colab.kernel.invokeFunction('convertToInteractive',\n",
              "                                                     [key], {});\n",
              "          if (!dataTable) return;\n",
              "\n",
              "          const docLinkHtml = 'Like what you see? Visit the ' +\n",
              "            '<a target=\"_blank\" href=https://colab.research.google.com/notebooks/data_table.ipynb>data table notebook</a>'\n",
              "            + ' to learn more about interactive tables.';\n",
              "          element.innerHTML = '';\n",
              "          dataTable['output_type'] = 'display_data';\n",
              "          await google.colab.output.renderOutput(dataTable, element);\n",
              "          const docLink = document.createElement('div');\n",
              "          docLink.innerHTML = docLinkHtml;\n",
              "          element.appendChild(docLink);\n",
              "        }\n",
              "      </script>\n",
              "    </div>\n",
              "  </div>\n"
            ]
          },
          "metadata": {},
          "execution_count": 19
        }
      ]
    },
    {
      "cell_type": "code",
      "source": [
        "expected =  np.outer(voter_tab[\"row_totals\"][0:5],\n",
        "                     voter_tab.loc[\"col_totals\"][0:3]) / 1000\n",
        "\n",
        "expected = pd.DataFrame(expected)\n",
        "\n",
        "expected.columns = [\"democrat\",\"independent\",\"republican\"]\n",
        "expected.index = [\"asian\",\"black\",\"hispanic\",\"other\",\"white\"]\n",
        "\n",
        "expected"
      ],
      "metadata": {
        "colab": {
          "base_uri": "https://localhost:8080/",
          "height": 206
        },
        "id": "jr9ZyrIXiaJx",
        "outputId": "d6c9a50a-e7ce-499d-fb42-f6dbeb386ab8"
      },
      "execution_count": 20,
      "outputs": [
        {
          "output_type": "execute_result",
          "data": {
            "text/plain": [
              "          democrat  independent  republican\n",
              "asian       23.820       11.160      25.020\n",
              "black       61.138       28.644      64.218\n",
              "hispanic    99.647       46.686     104.667\n",
              "other       15.086        7.068      15.846\n",
              "white      197.309       92.442     207.249"
            ],
            "text/html": [
              "\n",
              "\n",
              "  <div id=\"df-210c495c-8ac9-4d84-a645-bd6d54552d0a\">\n",
              "    <div class=\"colab-df-container\">\n",
              "      <div>\n",
              "<style scoped>\n",
              "    .dataframe tbody tr th:only-of-type {\n",
              "        vertical-align: middle;\n",
              "    }\n",
              "\n",
              "    .dataframe tbody tr th {\n",
              "        vertical-align: top;\n",
              "    }\n",
              "\n",
              "    .dataframe thead th {\n",
              "        text-align: right;\n",
              "    }\n",
              "</style>\n",
              "<table border=\"1\" class=\"dataframe\">\n",
              "  <thead>\n",
              "    <tr style=\"text-align: right;\">\n",
              "      <th></th>\n",
              "      <th>democrat</th>\n",
              "      <th>independent</th>\n",
              "      <th>republican</th>\n",
              "    </tr>\n",
              "  </thead>\n",
              "  <tbody>\n",
              "    <tr>\n",
              "      <th>asian</th>\n",
              "      <td>23.820</td>\n",
              "      <td>11.160</td>\n",
              "      <td>25.020</td>\n",
              "    </tr>\n",
              "    <tr>\n",
              "      <th>black</th>\n",
              "      <td>61.138</td>\n",
              "      <td>28.644</td>\n",
              "      <td>64.218</td>\n",
              "    </tr>\n",
              "    <tr>\n",
              "      <th>hispanic</th>\n",
              "      <td>99.647</td>\n",
              "      <td>46.686</td>\n",
              "      <td>104.667</td>\n",
              "    </tr>\n",
              "    <tr>\n",
              "      <th>other</th>\n",
              "      <td>15.086</td>\n",
              "      <td>7.068</td>\n",
              "      <td>15.846</td>\n",
              "    </tr>\n",
              "    <tr>\n",
              "      <th>white</th>\n",
              "      <td>197.309</td>\n",
              "      <td>92.442</td>\n",
              "      <td>207.249</td>\n",
              "    </tr>\n",
              "  </tbody>\n",
              "</table>\n",
              "</div>\n",
              "      <button class=\"colab-df-convert\" onclick=\"convertToInteractive('df-210c495c-8ac9-4d84-a645-bd6d54552d0a')\"\n",
              "              title=\"Convert this dataframe to an interactive table.\"\n",
              "              style=\"display:none;\">\n",
              "\n",
              "  <svg xmlns=\"http://www.w3.org/2000/svg\" height=\"24px\"viewBox=\"0 0 24 24\"\n",
              "       width=\"24px\">\n",
              "    <path d=\"M0 0h24v24H0V0z\" fill=\"none\"/>\n",
              "    <path d=\"M18.56 5.44l.94 2.06.94-2.06 2.06-.94-2.06-.94-.94-2.06-.94 2.06-2.06.94zm-11 1L8.5 8.5l.94-2.06 2.06-.94-2.06-.94L8.5 2.5l-.94 2.06-2.06.94zm10 10l.94 2.06.94-2.06 2.06-.94-2.06-.94-.94-2.06-.94 2.06-2.06.94z\"/><path d=\"M17.41 7.96l-1.37-1.37c-.4-.4-.92-.59-1.43-.59-.52 0-1.04.2-1.43.59L10.3 9.45l-7.72 7.72c-.78.78-.78 2.05 0 2.83L4 21.41c.39.39.9.59 1.41.59.51 0 1.02-.2 1.41-.59l7.78-7.78 2.81-2.81c.8-.78.8-2.07 0-2.86zM5.41 20L4 18.59l7.72-7.72 1.47 1.35L5.41 20z\"/>\n",
              "  </svg>\n",
              "      </button>\n",
              "\n",
              "\n",
              "\n",
              "    <div id=\"df-a4957fc8-d07f-42f2-94cd-0fd5b53c623f\">\n",
              "      <button class=\"colab-df-quickchart\" onclick=\"quickchart('df-a4957fc8-d07f-42f2-94cd-0fd5b53c623f')\"\n",
              "              title=\"Suggest charts.\"\n",
              "              style=\"display:none;\">\n",
              "\n",
              "<svg xmlns=\"http://www.w3.org/2000/svg\" height=\"24px\"viewBox=\"0 0 24 24\"\n",
              "     width=\"24px\">\n",
              "    <g>\n",
              "        <path d=\"M19 3H5c-1.1 0-2 .9-2 2v14c0 1.1.9 2 2 2h14c1.1 0 2-.9 2-2V5c0-1.1-.9-2-2-2zM9 17H7v-7h2v7zm4 0h-2V7h2v10zm4 0h-2v-4h2v4z\"/>\n",
              "    </g>\n",
              "</svg>\n",
              "      </button>\n",
              "    </div>\n",
              "\n",
              "<style>\n",
              "  .colab-df-quickchart {\n",
              "    background-color: #E8F0FE;\n",
              "    border: none;\n",
              "    border-radius: 50%;\n",
              "    cursor: pointer;\n",
              "    display: none;\n",
              "    fill: #1967D2;\n",
              "    height: 32px;\n",
              "    padding: 0 0 0 0;\n",
              "    width: 32px;\n",
              "  }\n",
              "\n",
              "  .colab-df-quickchart:hover {\n",
              "    background-color: #E2EBFA;\n",
              "    box-shadow: 0px 1px 2px rgba(60, 64, 67, 0.3), 0px 1px 3px 1px rgba(60, 64, 67, 0.15);\n",
              "    fill: #174EA6;\n",
              "  }\n",
              "\n",
              "  [theme=dark] .colab-df-quickchart {\n",
              "    background-color: #3B4455;\n",
              "    fill: #D2E3FC;\n",
              "  }\n",
              "\n",
              "  [theme=dark] .colab-df-quickchart:hover {\n",
              "    background-color: #434B5C;\n",
              "    box-shadow: 0px 1px 3px 1px rgba(0, 0, 0, 0.15);\n",
              "    filter: drop-shadow(0px 1px 2px rgba(0, 0, 0, 0.3));\n",
              "    fill: #FFFFFF;\n",
              "  }\n",
              "</style>\n",
              "\n",
              "    <script>\n",
              "      async function quickchart(key) {\n",
              "        const containerElement = document.querySelector('#' + key);\n",
              "        const charts = await google.colab.kernel.invokeFunction(\n",
              "            'suggestCharts', [key], {});\n",
              "      }\n",
              "    </script>\n",
              "\n",
              "      <script>\n",
              "\n",
              "function displayQuickchartButton(domScope) {\n",
              "  let quickchartButtonEl =\n",
              "    domScope.querySelector('#df-a4957fc8-d07f-42f2-94cd-0fd5b53c623f button.colab-df-quickchart');\n",
              "  quickchartButtonEl.style.display =\n",
              "    google.colab.kernel.accessAllowed ? 'block' : 'none';\n",
              "}\n",
              "\n",
              "        displayQuickchartButton(document);\n",
              "      </script>\n",
              "      <style>\n",
              "    .colab-df-container {\n",
              "      display:flex;\n",
              "      flex-wrap:wrap;\n",
              "      gap: 12px;\n",
              "    }\n",
              "\n",
              "    .colab-df-convert {\n",
              "      background-color: #E8F0FE;\n",
              "      border: none;\n",
              "      border-radius: 50%;\n",
              "      cursor: pointer;\n",
              "      display: none;\n",
              "      fill: #1967D2;\n",
              "      height: 32px;\n",
              "      padding: 0 0 0 0;\n",
              "      width: 32px;\n",
              "    }\n",
              "\n",
              "    .colab-df-convert:hover {\n",
              "      background-color: #E2EBFA;\n",
              "      box-shadow: 0px 1px 2px rgba(60, 64, 67, 0.3), 0px 1px 3px 1px rgba(60, 64, 67, 0.15);\n",
              "      fill: #174EA6;\n",
              "    }\n",
              "\n",
              "    [theme=dark] .colab-df-convert {\n",
              "      background-color: #3B4455;\n",
              "      fill: #D2E3FC;\n",
              "    }\n",
              "\n",
              "    [theme=dark] .colab-df-convert:hover {\n",
              "      background-color: #434B5C;\n",
              "      box-shadow: 0px 1px 3px 1px rgba(0, 0, 0, 0.15);\n",
              "      filter: drop-shadow(0px 1px 2px rgba(0, 0, 0, 0.3));\n",
              "      fill: #FFFFFF;\n",
              "    }\n",
              "  </style>\n",
              "\n",
              "      <script>\n",
              "        const buttonEl =\n",
              "          document.querySelector('#df-210c495c-8ac9-4d84-a645-bd6d54552d0a button.colab-df-convert');\n",
              "        buttonEl.style.display =\n",
              "          google.colab.kernel.accessAllowed ? 'block' : 'none';\n",
              "\n",
              "        async function convertToInteractive(key) {\n",
              "          const element = document.querySelector('#df-210c495c-8ac9-4d84-a645-bd6d54552d0a');\n",
              "          const dataTable =\n",
              "            await google.colab.kernel.invokeFunction('convertToInteractive',\n",
              "                                                     [key], {});\n",
              "          if (!dataTable) return;\n",
              "\n",
              "          const docLinkHtml = 'Like what you see? Visit the ' +\n",
              "            '<a target=\"_blank\" href=https://colab.research.google.com/notebooks/data_table.ipynb>data table notebook</a>'\n",
              "            + ' to learn more about interactive tables.';\n",
              "          element.innerHTML = '';\n",
              "          dataTable['output_type'] = 'display_data';\n",
              "          await google.colab.output.renderOutput(dataTable, element);\n",
              "          const docLink = document.createElement('div');\n",
              "          docLink.innerHTML = docLinkHtml;\n",
              "          element.appendChild(docLink);\n",
              "        }\n",
              "      </script>\n",
              "    </div>\n",
              "  </div>\n"
            ]
          },
          "metadata": {},
          "execution_count": 20
        }
      ]
    },
    {
      "cell_type": "code",
      "source": [
        "chi_squared_stat = (((observed-expected)**2)/expected).sum().sum()\n",
        "\n",
        "print(chi_squared_stat)"
      ],
      "metadata": {
        "colab": {
          "base_uri": "https://localhost:8080/"
        },
        "id": "45KUMExRiaNQ",
        "outputId": "3abcf238-c805-434e-c39e-99abbb577745"
      },
      "execution_count": 21,
      "outputs": [
        {
          "output_type": "stream",
          "name": "stdout",
          "text": [
            "7.169321280162059\n"
          ]
        }
      ]
    },
    {
      "cell_type": "code",
      "source": [
        "crit = stats.chi2.ppf(q = 0.95, # Find the critical value for 95% confidence*\n",
        "                      df = 8)   # *\n",
        "\n",
        "print(\"Critical value\")\n",
        "print(crit)\n",
        "\n",
        "p_value = 1 - stats.chi2.cdf(x=chi_squared_stat,  # Find the p-value\n",
        "                             df=8)\n",
        "print(\"P value\")\n",
        "print(p_value)"
      ],
      "metadata": {
        "colab": {
          "base_uri": "https://localhost:8080/"
        },
        "id": "ko-7m4mTiaQz",
        "outputId": "05cd3f72-cdf7-4e82-80de-c91deb6e3b08"
      },
      "execution_count": 22,
      "outputs": [
        {
          "output_type": "stream",
          "name": "stdout",
          "text": [
            "Critical value\n",
            "15.50731305586545\n",
            "P value\n",
            "0.518479392948842\n"
          ]
        }
      ]
    },
    {
      "cell_type": "code",
      "source": [
        "#features are independent\n",
        "stat, p, obs, exp = stats.chi2_contingency(observed= observed)\n",
        "print(f'stat = {stat}, p = {p}')\n",
        "if p > 0.05:\n",
        "    print('Probably independent')\n",
        "else:\n",
        "    print('Probably not independent')  # Array of expected counts"
      ],
      "metadata": {
        "colab": {
          "base_uri": "https://localhost:8080/"
        },
        "id": "zVRIISweiaUd",
        "outputId": "5556799a-22b6-4a11-fc90-26b965ec563e"
      },
      "execution_count": 27,
      "outputs": [
        {
          "output_type": "stream",
          "name": "stdout",
          "text": [
            "stat = 7.169321280162059, p = 0.518479392948842\n",
            "Probably independent\n"
          ]
        }
      ]
    },
    {
      "cell_type": "code",
      "source": [],
      "metadata": {
        "id": "4FBvPn3ziaYE"
      },
      "execution_count": null,
      "outputs": []
    },
    {
      "cell_type": "code",
      "source": [],
      "metadata": {
        "id": "3wg-qzE8iabd"
      },
      "execution_count": null,
      "outputs": []
    },
    {
      "cell_type": "code",
      "source": [],
      "metadata": {
        "id": "8mV78Nadiae-"
      },
      "execution_count": null,
      "outputs": []
    }
  ]
}
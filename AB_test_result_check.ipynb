{
 "cells": [
  {
   "cell_type": "code",
   "execution_count": 6,
   "id": "b4b1a311",
   "metadata": {},
   "outputs": [],
   "source": [
    "from scipy import stats\n",
    "\n",
    "# We observed 44 men and 56 women\n",
    "observed = [16509, 286] #[44, 56]\n",
    "# We expected 50 men and 50 women\n",
    "expected = [8865, 182] #[50, 50]\n",
    "# # Perform the chi-squared goodness-of-fit test\n",
    "# chisq, p = stats.chisquare(observed, expected)\n",
    "\n",
    "# print(f'χ² = {chisq:.2f}, p = {p:.2f}')"
   ]
  },
  {
   "cell_type": "code",
   "execution_count": 38,
   "id": "3e17442b",
   "metadata": {},
   "outputs": [
    {
     "name": "stdout",
     "output_type": "stream",
     "text": [
      "[[8860.11  186.89]\n",
      " [9913.89  209.11]]\n"
     ]
    }
   ],
   "source": [
    "import numpy as np\n",
    "\n",
    "#\n",
    "# Are two categorical variables independent?\n",
    "#\n",
    "# Collate the observed data\n",
    "observed = np.array(\n",
    "    [\n",
    "        #[16509, 286], # > 0.2\n",
    "        [8865, 182],  # > 0.25\n",
    "        [9909, 214]   # > 0.3\n",
    "    ]\n",
    ")\n",
    "# Calculate totals\n",
    "row_totals = np.array([np.sum(observed, axis=1)])\n",
    "col_totals = np.array([np.sum(observed, axis=0)])\n",
    "n = np.sum(observed)\n",
    "# Calculate the expected observations\n",
    "expected = np.dot(row_totals.T, col_totals) / n\n",
    "\n",
    "print(np.round(expected, 2))"
   ]
  },
  {
   "cell_type": "code",
   "execution_count": 39,
   "id": "c966a2c5",
   "metadata": {},
   "outputs": [
    {
     "name": "stdout",
     "output_type": "stream",
     "text": [
      "[0.00510327 0.24194161] [0.9430498  0.62280728]\n"
     ]
    }
   ],
   "source": [
    "# Calculate the chi-square test statistic\n",
    "chisq, p_value = stats.chisquare(observed, expected)\n",
    "\n",
    "print(chisq, p_value)"
   ]
  },
  {
   "cell_type": "code",
   "execution_count": 40,
   "id": "6a4f9a78",
   "metadata": {},
   "outputs": [
    {
     "name": "stdout",
     "output_type": "stream",
     "text": [
      "χ² = 0.247, p = 0.62\n"
     ]
    }
   ],
   "source": [
    "# Sum the answers\n",
    "chisq = np.sum(chisq)\n",
    "# Degrees of freedom\n",
    "rows = observed.shape[0]\n",
    "cols = observed.shape[1]\n",
    "dof = (rows - 1) * (cols - 1)\n",
    "# Convert chi-square test statistic to p-value\n",
    "p_value = 1 - stats.chi2.cdf(chisq, dof)\n",
    "\n",
    "print(f'χ² = {chisq:.3f}, p = {p_value:.2f}')"
   ]
  },
  {
   "cell_type": "code",
   "execution_count": null,
   "id": "414be8b9",
   "metadata": {},
   "outputs": [],
   "source": []
  },
  {
   "cell_type": "code",
   "execution_count": null,
   "id": "b96a9547",
   "metadata": {},
   "outputs": [],
   "source": []
  }
 ],
 "metadata": {
  "kernelspec": {
   "display_name": "Python 3 (ipykernel)",
   "language": "python",
   "name": "python3"
  },
  "language_info": {
   "codemirror_mode": {
    "name": "ipython",
    "version": 3
   },
   "file_extension": ".py",
   "mimetype": "text/x-python",
   "name": "python",
   "nbconvert_exporter": "python",
   "pygments_lexer": "ipython3",
   "version": "3.9.12"
  }
 },
 "nbformat": 4,
 "nbformat_minor": 5
}
